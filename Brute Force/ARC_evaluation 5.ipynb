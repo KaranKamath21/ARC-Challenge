{
  "nbformat": 4,
  "nbformat_minor": 0,
  "metadata": {
    "colab": {
      "provenance": []
    },
    "kernelspec": {
      "name": "python3",
      "display_name": "Python 3"
    },
    "language_info": {
      "name": "python"
    }
  },
  "cells": [
    {
      "cell_type": "code",
      "source": [
        "import numpy as np\n",
        "import pandas as pd\n",
        "\n",
        "import os\n",
        "import json\n",
        "from pathlib import Path\n",
        "\n",
        "import matplotlib.pyplot as plt\n",
        "from matplotlib import colors\n",
        "import numpy as np\n",
        "\n",
        "from pathlib import Path"
      ],
      "metadata": {
        "id": "rMlXFNEZHyrY"
      },
      "execution_count": null,
      "outputs": []
    },
    {
      "cell_type": "code",
      "source": [
        "data_path = Path('/content/drive/MyDrive/Colab_Notebooks/ARC/data/')\n",
        "training_path = data_path / 'training'\n",
        "evaluation_path = data_path / 'evaluation'\n",
        "\n",
        "training_tasks = sorted(os.listdir(training_path))\n",
        "evaluation_tasks = sorted(os.listdir(evaluation_path))\n",
        "print(len(training_tasks), len(evaluation_tasks))"
      ],
      "metadata": {
        "colab": {
          "base_uri": "https://localhost:8080/"
        },
        "id": "kM38G7iOH78J",
        "outputId": "08223451-0e13-439c-c2c7-9858987b16f7"
      },
      "execution_count": null,
      "outputs": [
        {
          "output_type": "stream",
          "name": "stdout",
          "text": [
            "400 400\n"
          ]
        }
      ]
    },
    {
      "cell_type": "code",
      "source": [
        "cmap = colors.ListedColormap(\n",
        "    ['#000000', '#0074D9','#FF4136','#2ECC40','#FFDC00',\n",
        "     '#AAAAAA', '#F012BE', '#FF851B', '#7FDBFF', '#870C25'])\n",
        "norm = colors.Normalize(vmin=0, vmax=9)\n",
        "# 0:black, 1:blue, 2:red, 3:greed, 4:yellow,\n",
        "# 5:gray, 6:magenta, 7:orange, 8:sky, 9:brown\n",
        "\n",
        "# plt.figure(figsize=(5, 2), dpi=200)\n",
        "# plt.imshow([list(range(10))], cmap=cmap, norm=norm)\n",
        "# plt.xticks(list(range(10)))\n",
        "# plt.yticks([])\n",
        "# plt.show()\n"
      ],
      "metadata": {
        "id": "-qwc2sJcIE2e"
      },
      "execution_count": null,
      "outputs": []
    },
    {
      "cell_type": "code",
      "source": [
        "#It extacts features from the JSON file\n",
        "def get_data(task_filename):\n",
        "    with open(task_filename, 'r') as f:\n",
        "        task = json.load(f)\n",
        "    return task\n",
        "\n",
        "#mapping between colour names and integers\n",
        "num2color = [\"black\", \"blue\", \"red\", \"green\", \"yellow\", \"gray\", \"magenta\", \"orange\", \"sky\", \"brown\"]\n",
        "color2num = {c: n for n, c in enumerate(num2color)}"
      ],
      "metadata": {
        "id": "dRIThZt6IHKR"
      },
      "execution_count": null,
      "outputs": []
    },
    {
      "cell_type": "code",
      "source": [
        "#This function is used to asses the performance of a prediction function on a given task\n",
        "def check(task, pred_func):\n",
        "    n = len(task[\"train\"]) + len(task[\"test\"])\n",
        "    #It calculates the number of subplots needed for visualization based on the number of training and test examples in the task.\n",
        "    fig, axs = plt.subplots(3, n, figsize=(4*n,12), dpi=50)\n",
        "    plt.subplots_adjust(wspace=0.3, hspace=0.3)\n",
        "    fig_num = 0\n",
        "    for i, t in enumerate(task[\"train\"]):\n",
        "        t_in, t_out = np.array(t[\"input\"]), np.array(t[\"output\"])\n",
        "        t_pred = pred_func(t_in)\n",
        "        axs[0][fig_num].imshow(t_in, cmap=cmap, norm=norm)\n",
        "        axs[0][fig_num].set_title(f'Train-{i} in')\n",
        "        axs[0][fig_num].set_yticks(list(range(t_in.shape[0])))\n",
        "        axs[0][fig_num].set_xticks(list(range(t_in.shape[1])))\n",
        "        axs[1][fig_num].imshow(t_out, cmap=cmap, norm=norm)\n",
        "        axs[1][fig_num].set_title(f'Train-{i} out')\n",
        "        axs[1][fig_num].set_yticks(list(range(t_out.shape[0])))\n",
        "        axs[1][fig_num].set_xticks(list(range(t_out.shape[1])))\n",
        "        axs[2][fig_num].imshow(t_pred, cmap=cmap, norm=norm)\n",
        "        axs[2][fig_num].set_title(f'Train-{i} pred')\n",
        "        axs[2][fig_num].set_yticks(list(range(t_pred.shape[0])))\n",
        "        axs[2][fig_num].set_xticks(list(range(t_pred.shape[1])))\n",
        "        fig_num += 1\n",
        "    for i, t in enumerate(task[\"test\"]):\n",
        "        t_in, t_out = np.array(t[\"input\"]), np.array(t[\"output\"])\n",
        "        t_pred = pred_func(t_in)\n",
        "        axs[0][fig_num].imshow(t_in, cmap=cmap, norm=norm)\n",
        "        axs[0][fig_num].set_title(f'Test-{i} in')\n",
        "        axs[0][fig_num].set_yticks(list(range(t_in.shape[0])))\n",
        "        axs[0][fig_num].set_xticks(list(range(t_in.shape[1])))\n",
        "        axs[1][fig_num].imshow(t_out, cmap=cmap, norm=norm)\n",
        "        axs[1][fig_num].set_title(f'Test-{i} out')\n",
        "        axs[1][fig_num].set_yticks(list(range(t_out.shape[0])))\n",
        "        axs[1][fig_num].set_xticks(list(range(t_out.shape[1])))\n",
        "        axs[2][fig_num].imshow(t_pred, cmap=cmap, norm=norm)\n",
        "        axs[2][fig_num].set_title(f'Test-{i} pred')\n",
        "        axs[2][fig_num].set_yticks(list(range(t_pred.shape[0])))\n",
        "        axs[2][fig_num].set_xticks(list(range(t_pred.shape[1])))\n",
        "        fig_num += 1\n",
        "\n",
        "        # It is used to compare the ground truth output with the predictions for both training and test examples in a task"
      ],
      "metadata": {
        "id": "NioAvKDNIKx_"
      },
      "execution_count": null,
      "outputs": []
    },
    {
      "cell_type": "code",
      "source": [
        "def task_train(x):\n",
        "    blue, red = color2num[\"blue\"], color2num[\"red\"]\n",
        "\n",
        "    def split_by_gray_line(arr):\n",
        "        H, W = arr.shape\n",
        "        gray = color2num[\"gray\"]\n",
        "        Y = [-1]\n",
        "        for y in range(H):\n",
        "            if (arr[y, :]==gray).all():\n",
        "                Y.append(y)\n",
        "        Y.append(H)\n",
        "        X = [-1]\n",
        "        for x in range(W):\n",
        "            if (arr[:, x]==gray).all():\n",
        "                X.append(x)\n",
        "        X.append(W)\n",
        "        res = [[arr[y1+1:y2, x1+1:x2] for x1, x2 in zip(X[:-1], X[1:])] for y1, y2 in zip(Y[:-1], Y[1:])]\n",
        "        return res\n",
        "\n",
        "    def change_color(arr, d):\n",
        "        res = arr.copy()\n",
        "        for k, v in d.items():\n",
        "            res[arr==k] = v\n",
        "        return res\n",
        "\n",
        "    x_split = split_by_gray_line(x)\n",
        "    assert len(x_split)==1\n",
        "    assert len(x_split[0])==2\n",
        "    x1, x2 = x_split[0]\n",
        "    y = x1 & x2\n",
        "    y = change_color(y, {blue: red})\n",
        "    return y\n",
        "\n",
        "task = get_data(str(training_path / training_tasks[5]))\n",
        "check(task, task_train)"
      ],
      "metadata": {
        "colab": {
          "base_uri": "https://localhost:8080/",
          "height": 473
        },
        "id": "vxy_MDjGIQKA",
        "outputId": "40f336ef-a68b-4a38-df7c-c83905ad7cbc"
      },
      "execution_count": null,
      "outputs": [
        {
          "output_type": "display_data",
          "data": {
            "text/plain": [
              "<Figure size 800x600 with 12 Axes>"
            ],
            "image/png": "[encoded data removed]"
          },
          "metadata": {}
        }
      ]
    }
  ]
}