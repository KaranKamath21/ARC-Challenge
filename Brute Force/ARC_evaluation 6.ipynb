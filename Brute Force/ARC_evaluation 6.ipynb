{
 "cells": [
  {
   "cell_type": "code",
   "execution_count": 8,
   "metadata": {},
   "outputs": [],
   "source": [
    "import numpy as np\n",
    "import pandas as pd\n",
    "import matplotlib.pyplot as plt\n",
    "from matplotlib import colors\n",
    "import os\n",
    "import json\n",
    "from pathlib import Path"
   ]
  },
  {
   "cell_type": "code",
   "execution_count": 9,
   "metadata": {},
   "outputs": [
    {
     "name": "stdout",
     "output_type": "stream",
     "text": [
      "400 400 100\n"
     ]
    }
   ],
   "source": [
    "training_path = Path('training')\n",
    "evaluation_path = Path('evaluation')\n",
    "test_path = Path('test')\n",
    "\n",
    "training_tasks = sorted(os.listdir(training_path))\n",
    "evaluation_tasks = sorted(os.listdir(evaluation_path))\n",
    "test_tasks = sorted(os.listdir(test_path))\n",
    "print(len(training_tasks), len(evaluation_tasks), len(test_tasks))"
   ]
  },
  {
   "cell_type": "code",
   "execution_count": 10,
   "metadata": {},
   "outputs": [
    {
     "data": {
      "image/png": "[encoded data removed]",
      "text/plain": [
       "<Figure size 1000x400 with 1 Axes>"
      ]
     },
     "metadata": {},
     "output_type": "display_data"
    }
   ],
   "source": [
    "cmap = colors.ListedColormap(\n",
    "    ['#000000', '#0074D9','#FF4136','#2ECC40','#FFDC00',\n",
    "     '#AAAAAA', '#F012BE', '#FF851B', '#7FDBFF', '#870C25'])\n",
    "norm = colors.Normalize(vmin=0, vmax=9)\n",
    "# 0:black, 1:blue, 2:red, 3:greed, 4:yellow,\n",
    "# 5:gray, 6:magenta, 7:orange, 8:sky, 9:brown\n",
    "plt.figure(figsize=(5, 2), dpi=200)\n",
    "plt.imshow([list(range(10))], cmap=cmap, norm=norm)\n",
    "plt.xticks(list(range(10)))\n",
    "plt.yticks([])\n",
    "plt.title('color map')\n",
    "plt.show()\n",
    "\n",
    "def plot_task(task):\n",
    "    n = len(task[\"train\"]) + len(task[\"test\"])\n",
    "    fig, ax = plt.subplots(2, n, figsize=(4*n,8), dpi=50)\n",
    "    plt.subplots_adjust(wspace=0, hspace=0)\n",
    "    fig_num = 0\n",
    "    for i, t in enumerate(task[\"train\"]):\n",
    "        t_in, t_out = np.array(t[\"input\"]), np.array(t[\"output\"])\n",
    "        ax[0][fig_num].imshow(t_in, cmap=cmap, norm=norm)\n",
    "        ax[0][fig_num].set_title(f'Train-{i} in')\n",
    "        ax[0][fig_num].set_yticks(list(range(t_in.shape[0])))\n",
    "        ax[0][fig_num].set_xticks(list(range(t_in.shape[1])))\n",
    "        ax[1][fig_num].imshow(t_out, cmap=cmap, norm=norm)\n",
    "        ax[1][fig_num].set_title(f'Train-{i} out')\n",
    "        ax[1][fig_num].set_yticks(list(range(t_out.shape[0])))\n",
    "        ax[1][fig_num].set_xticks(list(range(t_out.shape[1])))\n",
    "        fig_num += 1\n",
    "    for i, t in enumerate(task[\"test\"]):\n",
    "        t_in, t_out = np.array(t[\"input\"]), np.array(t[\"output\"])\n",
    "        ax[0][fig_num].imshow(t_in, cmap=cmap, norm=norm)\n",
    "        ax[0][fig_num].set_title(f'Test-{i} in')\n",
    "        ax[0][fig_num].set_yticks(list(range(t_in.shape[0])))\n",
    "        ax[0][fig_num].set_xticks(list(range(t_in.shape[1])))\n",
    "        ax[1][fig_num].imshow(t_out, cmap=cmap, norm=norm)\n",
    "        ax[1][fig_num].set_title(f'Test-{i} out')\n",
    "        ax[1][fig_num].set_yticks(list(range(t_out.shape[0])))\n",
    "        ax[1][fig_num].set_xticks(list(range(t_out.shape[1])))\n",
    "        fig_num += 1\n",
    "    \n",
    "    plt.tight_layout()\n",
    "    # plt.title('Color maps')\n",
    "    plt.show()\n",
    "    "
   ]
  },
  {
   "cell_type": "code",
   "execution_count": 11,
   "metadata": {},
   "outputs": [],
   "source": [
    "def load_task(task_filename):\n",
    "    with open(task_filename, 'r') as f:\n",
    "        task = json.load(f)\n",
    "    return task\n",
    "\n",
    "num2color = [\"black\", \"blue\", \"red\", \"green\", \"yellow\", \"gray\", \"magenta\", \"orange\", \"sky\", \"brown\"]\n",
    "color2num = {c: n for n, c in enumerate(num2color)}"
   ]
  },
  {
   "cell_type": "code",
   "execution_count": 12,
   "metadata": {},
   "outputs": [],
   "source": [
    "def plot_results(task, pred_func):\n",
    "    n = len(task[\"train\"]) + len(task[\"test\"])\n",
    "    fig, ax = plt.subplots(3, n, figsize=(4*n,12), dpi=50)\n",
    "    plt.subplots_adjust(wspace=0.3, hspace=0.3)\n",
    "    fig_num = 0\n",
    "    for i, t in enumerate(task[\"train\"]):\n",
    "        t_in, t_out = np.array(t[\"input\"]), np.array(t[\"output\"])\n",
    "        t_pred = pred_func(t_in)\n",
    "        ax[0][fig_num].imshow(t_in, cmap=cmap, norm=norm)\n",
    "        ax[0][fig_num].set_title(f'Train-{i} in')\n",
    "        ax[0][fig_num].set_yticks(list(range(t_in.shape[0])))\n",
    "        ax[0][fig_num].set_xticks(list(range(t_in.shape[1])))\n",
    "        ax[1][fig_num].imshow(t_out, cmap=cmap, norm=norm)\n",
    "        ax[1][fig_num].set_title(f'Train-{i} out')\n",
    "        ax[1][fig_num].set_yticks(list(range(t_out.shape[0])))\n",
    "        ax[1][fig_num].set_xticks(list(range(t_out.shape[1])))\n",
    "        ax[2][fig_num].imshow(t_pred, cmap=cmap, norm=norm)\n",
    "        ax[2][fig_num].set_title(f'Train-{i} pred')\n",
    "        ax[2][fig_num].set_yticks(list(range(t_pred.shape[0])))\n",
    "        ax[2][fig_num].set_xticks(list(range(t_pred.shape[1])))\n",
    "        fig_num += 1\n",
    "    for i, t in enumerate(task[\"test\"]):\n",
    "        t_in, t_out = np.array(t[\"input\"]), np.array(t[\"output\"])\n",
    "        t_pred = pred_func(t_in)\n",
    "        ax[0][fig_num].imshow(t_in, cmap=cmap, norm=norm)\n",
    "        ax[0][fig_num].set_title(f'Test-{i} in')\n",
    "        ax[0][fig_num].set_yticks(list(range(t_in.shape[0])))\n",
    "        ax[0][fig_num].set_xticks(list(range(t_in.shape[1])))\n",
    "        ax[1][fig_num].imshow(t_out, cmap=cmap, norm=norm)\n",
    "        ax[1][fig_num].set_title(f'Test-{i} out')\n",
    "        ax[1][fig_num].set_yticks(list(range(t_out.shape[0])))\n",
    "        ax[1][fig_num].set_xticks(list(range(t_out.shape[1])))\n",
    "        ax[2][fig_num].imshow(t_pred, cmap=cmap, norm=norm)\n",
    "        ax[2][fig_num].set_title(f'Test-{i} pred')\n",
    "        ax[2][fig_num].set_yticks(list(range(t_pred.shape[0])))\n",
    "        ax[2][fig_num].set_xticks(list(range(t_pred.shape[1])))\n",
    "        fig_num += 1"
   ]
  },
  {
   "cell_type": "code",
   "execution_count": 13,
   "metadata": {},
   "outputs": [
    {
     "data": {
      "image/png": "[encoded data removed]",
      "text/plain": [
       "<Figure size 800x600 with 12 Axes>"
      ]
     },
     "metadata": {},
     "output_type": "display_data"
    }
   ],
   "source": [
    "def modify_task(x):\n",
    "    height, width = x.shape\n",
    "    color_palette = [0, 0, 0]\n",
    "\n",
    "    # Find distinct colors from the input grid\n",
    "    for row in range(height):\n",
    "        for col in range(width):\n",
    "            color = x[row, col]\n",
    "            if color != 0:\n",
    "                color_palette[(row + col) % 3] = color\n",
    "\n",
    "    # Assign colors based on the distinct colors found\n",
    "    new_grid = x.copy()\n",
    "    for row in range(height):\n",
    "        for col in range(width):\n",
    "            new_grid[row, col] = color_palette[(row + col) % 3]\n",
    "\n",
    "    return new_grid\n",
    "\n",
    "task = load_task(str(training_path / training_tasks[6]))\n",
    "plot_results(task, modify_task)\n"
   ]
  }
 ],
 "metadata": {
  "kernelspec": {
   "display_name": "Python 3",
   "language": "python",
   "name": "python3"
  },
  "language_info": {
   "codemirror_mode": {
    "name": "ipython",
    "version": 3
   },
   "file_extension": ".py",
   "mimetype": "text/x-python",
   "name": "python",
   "nbconvert_exporter": "python",
   "pygments_lexer": "ipython3",
   "version": "3.12.2"
  }
 },
 "nbformat": 4,
 "nbformat_minor": 2
}
