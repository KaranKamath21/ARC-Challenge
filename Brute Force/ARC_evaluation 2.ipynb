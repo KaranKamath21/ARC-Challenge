{
 "cells": [
  {
   "cell_type": "code",
   "execution_count": 53,
   "metadata": {},
   "outputs": [],
   "source": [
    "import numpy as np\n",
    "import os\n",
    "import json\n",
    "import matplotlib.pyplot as plt\n",
    "from matplotlib import colors"
   ]
  },
  {
   "cell_type": "code",
   "execution_count": 54,
   "metadata": {},
   "outputs": [],
   "source": [
    "training_path = 'data/training'\n",
    "evaluation_path = 'data/evaluation'\n",
    "training_tasks = sorted(os.listdir(training_path))\n",
    "# evaluation_tasks = sorted(os.listdir(evaluation_path))\n",
    "\n",
    "# print(len(training_tasks), len(evaluation_tasks))"
   ]
  },
  {
   "cell_type": "code",
   "execution_count": 55,
   "metadata": {},
   "outputs": [],
   "source": [
    "cmap = colors.ListedColormap(\n",
    "    ['#000000', '#0074D9','#FF4136','#2ECC40','#FFDC00',\n",
    "     '#AAAAAA', '#F012BE', '#FF851B', '#7FDBFF', '#870C25'])\n",
    "norm = colors.Normalize(vmin=0, vmax=9)\n",
    "# 0:black, 1:blue, 2:red, 3:greed, 4:yellow,\n",
    "# 5:gray, 6:magenta, 7:orange, 8:sky, 9:brown"
   ]
  },
  {
   "cell_type": "code",
   "execution_count": 56,
   "metadata": {},
   "outputs": [],
   "source": [
    "def get_data(task_filename):\n",
    "    with open(task_filename, 'r') as f:\n",
    "        task = json.load(f)\n",
    "    return task\n",
    "\n",
    "num2color = [\"black\", \"blue\", \"red\", \"green\", \"yellow\", \"gray\", \"magenta\", \"orange\", \"sky\", \"brown\"]\n",
    "color2num = {c: n for n, c in enumerate(num2color)}"
   ]
  },
  {
   "cell_type": "code",
   "execution_count": 57,
   "metadata": {},
   "outputs": [],
   "source": [
    "# This is nothing. This part is just plotting everything - training model, testing model (input, output, prediction)\n",
    "\n",
    "def check(task, pred_func):\n",
    "    n = len(task[\"train\"]) + len(task[\"test\"])\n",
    "    fig, axs = plt.subplots(3, n, figsize=(4*n,12), dpi=50)\n",
    "    plt.subplots_adjust(wspace=0.3, hspace=0.3)\n",
    "    fig_num = 0\n",
    "    \n",
    "    for i, t in enumerate(task[\"train\"]):\n",
    "        t_in, t_out = np.array(t[\"input\"]), np.array(t[\"output\"])\n",
    "        t_pred = pred_func(t_in)\n",
    "\n",
    "        # Plot input of the training dataset\n",
    "        axs[0][fig_num].imshow(t_in, cmap=cmap, norm=norm)\n",
    "        axs[0][fig_num].set_title(f'Train-{i} in')\n",
    "        axs[0][fig_num].set_yticks(list(range(t_in.shape[0])))\n",
    "        axs[0][fig_num].set_xticks(list(range(t_in.shape[1])))\n",
    "\n",
    "        # Plot output of the training dataset\n",
    "        axs[1][fig_num].imshow(t_out, cmap=cmap, norm=norm)\n",
    "        axs[1][fig_num].set_title(f'Train-{i} out')\n",
    "        axs[1][fig_num].set_yticks(list(range(t_out.shape[0])))\n",
    "        axs[1][fig_num].set_xticks(list(range(t_out.shape[1])))\n",
    "\n",
    "        # Plot prediction of the training dataset\n",
    "        axs[2][fig_num].imshow(t_pred, cmap=cmap, norm=norm)\n",
    "        axs[2][fig_num].set_title(f'Train-{i} pred')\n",
    "        axs[2][fig_num].set_yticks(list(range(t_pred.shape[0])))\n",
    "        axs[2][fig_num].set_xticks(list(range(t_pred.shape[1])))\n",
    "        fig_num += 1\n",
    "\n",
    "    for i, t in enumerate(task[\"test\"]):\n",
    "        t_in, t_out = np.array(t[\"input\"]), np.array(t[\"output\"])\n",
    "        t_pred = pred_func(t_in)\n",
    "\n",
    "        # Plot input of the training dataset\n",
    "        axs[0][fig_num].imshow(t_in, cmap=cmap, norm=norm)\n",
    "        axs[0][fig_num].set_title(f'Test-{i} in')\n",
    "        axs[0][fig_num].set_yticks(list(range(t_in.shape[0])))\n",
    "        axs[0][fig_num].set_xticks(list(range(t_in.shape[1])))\n",
    "\n",
    "        # Plot output of the training dataset\n",
    "        axs[1][fig_num].imshow(t_out, cmap=cmap, norm=norm)\n",
    "        axs[1][fig_num].set_title(f'Test-{i} out')\n",
    "        axs[1][fig_num].set_yticks(list(range(t_out.shape[0])))\n",
    "        axs[1][fig_num].set_xticks(list(range(t_out.shape[1])))\n",
    "\n",
    "        # Plot prediction of the training dataset\n",
    "        axs[2][fig_num].imshow(t_pred, cmap=cmap, norm=norm)\n",
    "        axs[2][fig_num].set_title(f'Test-{i} pred')\n",
    "        axs[2][fig_num].set_yticks(list(range(t_pred.shape[0])))\n",
    "        axs[2][fig_num].set_xticks(list(range(t_pred.shape[1])))\n",
    "        fig_num += 1"
   ]
  },
  {
   "cell_type": "code",
   "execution_count": 58,
   "metadata": {},
   "outputs": [
    {
     "name": "stdout",
     "output_type": "stream",
     "text": [
      "Period is :  4\n",
      "Period is :  2\n",
      "Period is :  3\n",
      "Period is :  3\n"
     ]
    },
    {
     "data": {
      "image/png": "[encoded data removed]",
      "text/plain": [
       "<Figure size 800x600 with 12 Axes>"
      ]
     },
     "metadata": {},
     "output_type": "display_data"
    }
   ],
   "source": [
    "def task_train002(x):\n",
    "    red, blue = color2num[\"red\"], color2num[\"blue\"]\n",
    "\n",
    "    def get_period_length(arr):\n",
    "        H = len(arr)  # Height of the array\n",
    "        W = len(arr[0])  # Width of the array\n",
    "        period = 1\n",
    "        while True:\n",
    "            # Perform cyclic padding \n",
    "            cycled = [[arr[i % period][j] for j in range(W)] for i in range(H)]\n",
    "            for i in range(H - period):\n",
    "                cycled.append(arr[i][:])\n",
    "            # Check if the padded array matches the original array\n",
    "            all_equal = True\n",
    "            for i in range(H):\n",
    "                for j in range(W):\n",
    "                    if cycled[i][j] != arr[i][j]:\n",
    "                        all_equal = False\n",
    "                        break\n",
    "                if not all_equal:\n",
    "                    break\n",
    "            if all_equal:\n",
    "                return period\n",
    "            period += 1\n",
    "\n",
    "            \n",
    "    def change_color(arr, d): # Because the output is in red color.\n",
    "        res = arr.copy()\n",
    "        for blue, red in d.items():\n",
    "            res[arr==blue] = red # Change the blue color to red color.\n",
    "        return res\n",
    "            \n",
    "    period = get_period_length(x)\n",
    "    print(\"Period is : \", period)\n",
    "    y = x[:period, :]  # clop one period (removes the data that falls in one period length of the given array)\n",
    "    y = np.pad(y, ((0,9-period),(0,0)), 'wrap')  # this line will repeat the period to make it oh height 10.\n",
    "    y = change_color(y, {blue: red})\n",
    "    return y\n",
    "    \n",
    "task = get_data('data/training/' + training_tasks[2])\n",
    "check(task, task_train002)"
   ]
  }
 ],
 "metadata": {
  "kernelspec": {
   "display_name": "Python 3",
   "language": "python",
   "name": "python3"
  },
  "language_info": {
   "codemirror_mode": {
    "name": "ipython",
    "version": 3
   },
   "file_extension": ".py",
   "mimetype": "text/x-python",
   "name": "python",
   "nbconvert_exporter": "python",
   "pygments_lexer": "ipython3",
   "version": "3.12.2"
  }
 },
 "nbformat": 4,
 "nbformat_minor": 2
}
